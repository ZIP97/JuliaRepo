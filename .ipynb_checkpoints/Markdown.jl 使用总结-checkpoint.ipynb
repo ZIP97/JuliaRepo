{
 "cells": [
  {
   "cell_type": "markdown",
   "metadata": {
    "toc": true
   },
   "source": [
    "<h1>Table of Contents<span class=\"tocSkip\"></span></h1>\n",
    "<div class=\"toc\"><ul class=\"toc-item\"><li><span><a href=\"#从-docstring-开始\" data-toc-modified-id=\"从-docstring-开始-1\"><span class=\"toc-item-num\">1&nbsp;&nbsp;</span>从 docstring 开始</a></span></li><li><span><a href=\"#利用-@doc-进行注释\" data-toc-modified-id=\"利用-@doc-进行注释-2\"><span class=\"toc-item-num\">2&nbsp;&nbsp;</span>利用 @doc 进行注释</a></span></li><li><span><a href=\"#实现-MD-实例:-从字符串到-MD-对象\" data-toc-modified-id=\"实现-MD-实例:-从字符串到-MD-对象-3\"><span class=\"toc-item-num\">3&nbsp;&nbsp;</span>实现 MD 实例: 从字符串到 MD 对象</a></span><ul class=\"toc-item\"><li><span><a href=\"#用宏和函数解析-markdown-字符串\" data-toc-modified-id=\"用宏和函数解析-markdown-字符串-3.1\"><span class=\"toc-item-num\">3.1&nbsp;&nbsp;</span>用宏和函数解析 markdown 字符串</a></span></li><li><span><a href=\"#函数式编程组建-markdown-结构\" data-toc-modified-id=\"函数式编程组建-markdown-结构-3.2\"><span class=\"toc-item-num\">3.2&nbsp;&nbsp;</span>函数式编程组建 markdown 结构</a></span></li></ul></li><li><span><a href=\"#MD-对象转化成-String\" data-toc-modified-id=\"MD-对象转化成-String-4\"><span class=\"toc-item-num\">4&nbsp;&nbsp;</span>MD 对象转化成 String</a></span></li><li><span><a href=\"#实现文档类型转化:-md-文件-转化成-html-文件和-tex-文件\" data-toc-modified-id=\"实现文档类型转化:-md-文件-转化成-html-文件和-tex-文件-5\"><span class=\"toc-item-num\">5&nbsp;&nbsp;</span>实现文档类型转化: md 文件 转化成 html 文件和 tex 文件</a></span></li></ul></div>"
   ]
  },
  {
   "cell_type": "markdown",
   "metadata": {},
   "source": [
    "Julia 的标准库 `Markdown.jl` 可灵活高效地解析 markdown, 从 Julia 0.4 版本开始, `Markdown.jl` 便成为 Julia 的基础库. \n",
    "\n",
    "当我们从 REPL 进入帮助模式(按 `?` 键), 或者在 Jupyter Notebook 中使用 `?` 查看函数的帮助信息时, 丰富多彩的帮助文字背后即是 `Markdown.jl` 在发挥作用."
   ]
  },
  {
   "cell_type": "markdown",
   "metadata": {},
   "source": [
    "> 参考: https://www.juliabloggers.com/monthofjulia-day-36-markdown/\n",
    "markdown 语法中文介绍: http://www.markdown.cn/\n",
    "markdown 语法 cheatsheet: https://github.com/adam-p/markdown-here/wiki/Markdown-Cheatsheet"
   ]
  },
  {
   "cell_type": "markdown",
   "metadata": {},
   "source": [
    "# 从 docstring 开始"
   ]
  },
  {
   "cell_type": "markdown",
   "metadata": {},
   "source": [
    "查看 `+` 的说明文档时, 你会发现字体、颜色、样式并不是唯一的，这是如何实现的呢\n",
    "\n",
    "![REPL_docstring](./fig/markdown/REPL_docstring.png)\n",
    "\n",
    "![JN_docstring](./fig/markdown/JN_docstring.png)"
   ]
  },
  {
   "cell_type": "markdown",
   "metadata": {},
   "source": [
    "要弄清楚这一点, 我们需要引入两个 macro 和 `MD` 这个函数"
   ]
  },
  {
   "cell_type": "code",
   "execution_count": 1,
   "metadata": {},
   "outputs": [],
   "source": [
    "using Markdown\n",
    "using Markdown: @doc, @doc_str, MD"
   ]
  },
  {
   "cell_type": "markdown",
   "metadata": {},
   "source": [
    "首先将 `+` 的 docstr 保存下来, 使用 @doc 保存到 *doc* 变量, 可以发现, *doc* 的类型是 **MD**, 这种类型就是 markdown 在 Julia 中的被解析的对象, 且 **MD** 有两部分, 一部分是 *meta*, 反映函数的元信息, 另一部分是 *content* 是一个类型为 **MD** 的一维 array, 用来具体说明函数的用法. 也就是说, docstring 可以由各种 **MD** 实例组成."
   ]
  },
  {
   "cell_type": "code",
   "execution_count": 2,
   "metadata": {},
   "outputs": [],
   "source": [
    "doc = @doc +; # type: MD"
   ]
  },
  {
   "cell_type": "code",
   "execution_count": 3,
   "metadata": {},
   "outputs": [
    {
     "data": {
      "text/plain": [
       "Dict{Any,Any} with 3 entries:\n",
       "  :typesig => Union{}\n",
       "  :binding => Base.:+\n",
       "  :results => Base.Docs.DocStr[DocStr(svec(\"    +(x, y...)\\n\\nAddition operator…"
      ]
     },
     "execution_count": 3,
     "metadata": {},
     "output_type": "execute_result"
    }
   ],
   "source": [
    "doc.meta"
   ]
  },
  {
   "cell_type": "code",
   "execution_count": 4,
   "metadata": {},
   "outputs": [
    {
     "data": {
      "text/plain": [
       "2-element Array{Any,1}:\n",
       " ```\n",
       "+(x, y...)\n",
       "```\n",
       "\n",
       "Addition operator. `x+y+z+...` calls this function with all arguments, i.e. `+(x, y, z, ...)`.\n",
       "\n",
       "# Examples\n",
       "\n",
       "```jldoctest\n",
       "julia> 1 + 20 + 4\n",
       "25\n",
       "\n",
       "julia> +(1, 20, 4)\n",
       "25\n",
       "```\n",
       "                                                                                                                                                                       \n",
       " ```\n",
       "dt::Date + t::Time -> DateTime\n",
       "```\n",
       "\n",
       "The addition of a `Date` with a `Time` produces a `DateTime`. The hour, minute, second, and millisecond parts of the `Time` are used along with the year, month, and day of the `Date` to create the new `DateTime`. Non-zero microseconds or nanoseconds in the `Time` type will result in an `InexactError` being thrown.\n"
      ]
     },
     "execution_count": 4,
     "metadata": {},
     "output_type": "execute_result"
    }
   ],
   "source": [
    "doc.content"
   ]
  },
  {
   "cell_type": "markdown",
   "metadata": {},
   "source": [
    "那么你会想到, 如果我们有了 `MD` 各种实例, 如何重新组合成完整的 docstring 呢?\n",
    "\n",
    "`MD` 函数可以帮助你实现. 它接受两种类型方法\n",
    "\n",
    "- 传入类型为 **MD** 的一维 array 时, 可组合起来形成一个新的 **MD**\n",
    "\n",
    "- 传入类型为 **Dict** 类型时, 可添加到 **MD** 实例的 meta 部分, 作为辅助说明\n",
    "\n",
    "根据这个思路, 你可以写出 `+` 的 *伪* docstr"
   ]
  },
  {
   "cell_type": "code",
   "execution_count": 5,
   "metadata": {
    "code_folding": []
   },
   "outputs": [
    {
     "data": {
      "text/latex": [
       "\\begin{verbatim}\n",
       "+(x, y...)\n",
       "\\end{verbatim}\n",
       "Addition operator. \\texttt{x+y+z+...} calls this function with all arguments, i.e. \\texttt{+(x, y, z, ...)}.\n",
       "\n",
       "\\section{Examples}\n",
       "\\begin{verbatim}\n",
       "julia> 1 + 20 + 4\n",
       "25\n",
       "\n",
       "julia> +(1, 20, 4)\n",
       "25\n",
       "\\end{verbatim}\n",
       "\\begin{verbatim}\n",
       "dt::Date + t::Time -> DateTime\n",
       "\\end{verbatim}\n",
       "The addition of a \\texttt{Date} with a \\texttt{Time} produces a \\texttt{DateTime}. The hour, minute, second, and millisecond parts of the \\texttt{Time} are used along with the year, month, and day of the \\texttt{Date} to create the new \\texttt{DateTime}. Non-zero microseconds or nanoseconds in the \\texttt{Time} type will result in an \\texttt{InexactError} being thrown.\n",
       "\n"
      ],
      "text/markdown": [
       "```\n",
       "+(x, y...)\n",
       "```\n",
       "\n",
       "Addition operator. `x+y+z+...` calls this function with all arguments, i.e. `+(x, y, z, ...)`.\n",
       "\n",
       "# Examples\n",
       "\n",
       "```jldoctest\n",
       "julia> 1 + 20 + 4\n",
       "25\n",
       "\n",
       "julia> +(1, 20, 4)\n",
       "25\n",
       "```\n",
       "\n",
       "```\n",
       "dt::Date + t::Time -> DateTime\n",
       "```\n",
       "\n",
       "The addition of a `Date` with a `Time` produces a `DateTime`. The hour, minute, second, and millisecond parts of the `Time` are used along with the year, month, and day of the `Date` to create the new `DateTime`. Non-zero microseconds or nanoseconds in the `Time` type will result in an `InexactError` being thrown.\n"
      ],
      "text/plain": [
       "\u001b[36m  +(x, y...)\u001b[39m\n",
       "\n",
       "  Addition operator. \u001b[36mx+y+z+...\u001b[39m calls this function with all arguments, i.e.\n",
       "  \u001b[36m+(x, y, z, ...)\u001b[39m.\n",
       "\n",
       "\u001b[1m  Examples\u001b[22m\n",
       "\u001b[1m  ≡≡≡≡≡≡≡≡≡≡\u001b[22m\n",
       "\n",
       "\u001b[36m  julia> 1 + 20 + 4\u001b[39m\n",
       "\u001b[36m  25\u001b[39m\n",
       "\u001b[36m  \u001b[39m\n",
       "\u001b[36m  julia> +(1, 20, 4)\u001b[39m\n",
       "\u001b[36m  25\u001b[39m\n",
       "\n",
       "\u001b[36m  dt::Date + t::Time -> DateTime\u001b[39m\n",
       "\n",
       "  The addition of a \u001b[36mDate\u001b[39m with a \u001b[36mTime\u001b[39m produces a \u001b[36mDateTime\u001b[39m. The hour, minute,\n",
       "  second, and millisecond parts of the \u001b[36mTime\u001b[39m are used along with the year,\n",
       "  month, and day of the \u001b[36mDate\u001b[39m to create the new \u001b[36mDateTime\u001b[39m. Non-zero microseconds\n",
       "  or nanoseconds in the \u001b[36mTime\u001b[39m type will result in an \u001b[36mInexactError\u001b[39m being thrown."
      ]
     },
     "execution_count": 5,
     "metadata": {},
     "output_type": "execute_result"
    }
   ],
   "source": [
    "docPseudo = MD(Vector{MD}(\n",
    "        [doc.content[1], doc.content[2]]\n",
    "        )\n",
    ");\n",
    "docPseudo.meta = Dict(:typesig => Union{}, :binding => Base.:+, :results => docPseudo);\n",
    "docPseudo"
   ]
  },
  {
   "cell_type": "code",
   "execution_count": 6,
   "metadata": {},
   "outputs": [
    {
     "data": {
      "text/plain": [
       "Dict{Any,Any} with 3 entries:\n",
       "  :typesig => Union{}\n",
       "  :binding => +\n",
       "  :results => ```…"
      ]
     },
     "execution_count": 6,
     "metadata": {},
     "output_type": "execute_result"
    }
   ],
   "source": [
    "docPseudo.meta"
   ]
  },
  {
   "cell_type": "markdown",
   "metadata": {},
   "source": [
    "# 利用 @doc 进行注释"
   ]
  },
  {
   "cell_type": "markdown",
   "metadata": {},
   "source": [
    "从上面的讨论中, 我们知道 文档字符串在 Julia 中就是 MD 对象, 那么如何将字符串\"变成\"函数的文档呢?\n",
    "\n",
    "答案: 使用 `@doc` 宏\n",
    "\n",
    "利用命令 `@doc @doc` 或者 `?@doc`, 你会发现 `@doc` 有两个功能:\n",
    "\n",
    "1. 获取某个对象（函数、宏、变量）的文档\n",
    "\n",
    "2. 给某个对象（函数、宏、变量）添加文档\n",
    "\n",
    "你或许已经知道，在 Julia 中我们在函数体前用 `\"\"\"` 给函数做注释："
   ]
  },
  {
   "cell_type": "code",
   "execution_count": 7,
   "metadata": {},
   "outputs": [
    {
     "data": {
      "text/plain": [
       "Print"
      ]
     },
     "execution_count": 7,
     "metadata": {},
     "output_type": "execute_result"
    }
   ],
   "source": [
    "\"\"\"\n",
    "print `param` (take **Int** type as the argument)\n",
    "\n",
    "# First Examples\n",
    "\n",
    "```julia\n",
    "julia> str = \"Hello World\\n\"\n",
    "julia> Print(str*str)\n",
    "$(let str = \"Hello World\"\n",
    "    str*str\n",
    "end)\n",
    "```\n",
    "\"\"\"\n",
    "function Print(param::String)\n",
    "    println(param)\n",
    "    end\n"
   ]
  },
  {
   "cell_type": "markdown",
   "metadata": {},
   "source": [
    "但在 REPL 中, 以上方式会无法将字符串解析成文档字符串(运行结果只是单纯的一段字符串和一个函数体), 使用 `md` `doc` 字符串宏给函数做注释时会报 `ERROR: syntax` 语法错误, 这时应使用 `@doc` 宏和 `->` 符号给函数(或者任何你想要注释的对象)做注释"
   ]
  },
  {
   "cell_type": "code",
   "execution_count": 8,
   "metadata": {},
   "outputs": [
    {
     "data": {
      "text/plain": [
       "Print"
      ]
     },
     "execution_count": 8,
     "metadata": {},
     "output_type": "execute_result"
    }
   ],
   "source": [
    "@doc \"\"\"\n",
    "print `param` (take **Float64** type as the argument)\n",
    "\n",
    "# Second Examples\n",
    "\n",
    "```julia\n",
    "julia> r = rand()\n",
    "julia> Print(r)\n",
    "$(let r=rand()\n",
    "    r\n",
    "end)\n",
    "```\n",
    "\"\"\" ->\n",
    "function Print(param::Float64)\n",
    "    println(param)\n",
    "    end"
   ]
  },
  {
   "cell_type": "code",
   "execution_count": 9,
   "metadata": {},
   "outputs": [
    {
     "data": {
      "text/plain": [
       "Print"
      ]
     },
     "execution_count": 9,
     "metadata": {},
     "output_type": "execute_result"
    }
   ],
   "source": [
    "docstring = \"\"\"\n",
    "print `param` (take **String** type as the argument)\n",
    "\n",
    "# Third Examples\n",
    "\n",
    "```julia\n",
    "julia> Print(1)\n",
    "1\n",
    "```\n",
    "\"\"\";\n",
    "\n",
    "@doc docstring Print(param::Int) = print(param)"
   ]
  },
  {
   "cell_type": "code",
   "execution_count": 10,
   "metadata": {},
   "outputs": [
    {
     "data": {
      "text/html": [
       "# 3 methods for generic function <b>Print</b>:<ul><li> Print(param::<b>Int64</b>) in Main at In[9]:12</li> <li> Print(param::<b>Float64</b>) in Main at In[8]:15</li> <li> Print(param::<b>String</b>) in Main at In[7]:15</li> </ul>"
      ],
      "text/plain": [
       "# 3 methods for generic function \"Print\":\n",
       "[1] Print(param::Int64) in Main at In[9]:12\n",
       "[2] Print(param::Float64) in Main at In[8]:15\n",
       "[3] Print(param::String) in Main at In[7]:15"
      ]
     },
     "execution_count": 10,
     "metadata": {},
     "output_type": "execute_result"
    }
   ],
   "source": [
    "methods(Print)"
   ]
  },
  {
   "cell_type": "code",
   "execution_count": 11,
   "metadata": {},
   "outputs": [
    {
     "name": "stdout",
     "output_type": "stream",
     "text": [
      "search: \u001b[0m\u001b[1mP\u001b[22m\u001b[0m\u001b[1mr\u001b[22m\u001b[0m\u001b[1mi\u001b[22m\u001b[0m\u001b[1mn\u001b[22m\u001b[0m\u001b[1mt\u001b[22m \u001b[0m\u001b[1mp\u001b[22m\u001b[0m\u001b[1mr\u001b[22m\u001b[0m\u001b[1mi\u001b[22m\u001b[0m\u001b[1mn\u001b[22m\u001b[0m\u001b[1mt\u001b[22m \u001b[0m\u001b[1mp\u001b[22m\u001b[0m\u001b[1mr\u001b[22m\u001b[0m\u001b[1mi\u001b[22m\u001b[0m\u001b[1mn\u001b[22m\u001b[0m\u001b[1mt\u001b[22mln \u001b[0m\u001b[1mp\u001b[22m\u001b[0m\u001b[1mr\u001b[22m\u001b[0m\u001b[1mi\u001b[22m\u001b[0m\u001b[1mn\u001b[22m\u001b[0m\u001b[1mt\u001b[22mstyled s\u001b[0m\u001b[1mp\u001b[22m\u001b[0m\u001b[1mr\u001b[22m\u001b[0m\u001b[1mi\u001b[22m\u001b[0m\u001b[1mn\u001b[22m\u001b[0m\u001b[1mt\u001b[22m is\u001b[0m\u001b[1mp\u001b[22m\u001b[0m\u001b[1mr\u001b[22m\u001b[0m\u001b[1mi\u001b[22m\u001b[0m\u001b[1mn\u001b[22m\u001b[0m\u001b[1mt\u001b[22m \u001b[0m\u001b[1mp\u001b[22m\u001b[0m\u001b[1mr\u001b[22mev\u001b[0m\u001b[1mi\u001b[22m\u001b[0m\u001b[1mn\u001b[22md \u001b[0m\u001b[1mp\u001b[22ma\u001b[0m\u001b[1mr\u001b[22ment\u001b[0m\u001b[1mi\u001b[22m\u001b[0m\u001b[1mn\u001b[22mdices\n",
      "\n"
     ]
    },
    {
     "data": {
      "text/latex": [
       "print \\texttt{param} (take \\textbf{Int} type as the argument)\n",
       "\n",
       "\\section{First Examples}\n",
       "\\begin{verbatim}\n",
       "julia> str = \"Hello World\n",
       "\"\n",
       "julia> Print(str*str)\n",
       "Hello WorldHello World\n",
       "\\end{verbatim}\n",
       "\\rule{\\textwidth}{1pt}\n",
       "print \\texttt{param} (take \\textbf{Float64} type as the argument)\n",
       "\n",
       "\\section{Second Examples}\n",
       "\\begin{verbatim}\n",
       "julia> r = rand()\n",
       "julia> Print(r)\n",
       "0.40218381068451414\n",
       "\\end{verbatim}\n",
       "\\rule{\\textwidth}{1pt}\n",
       "print \\texttt{param} (take \\textbf{String} type as the argument)\n",
       "\n",
       "\\section{Third Examples}\n",
       "\\begin{verbatim}\n",
       "julia> Print(1)\n",
       "1\n",
       "\\end{verbatim}\n"
      ],
      "text/markdown": [
       "print `param` (take **Int** type as the argument)\n",
       "\n",
       "# First Examples\n",
       "\n",
       "```julia\n",
       "julia> str = \"Hello World\n",
       "\"\n",
       "julia> Print(str*str)\n",
       "Hello WorldHello World\n",
       "```\n",
       "\n",
       "---\n",
       "\n",
       "print `param` (take **Float64** type as the argument)\n",
       "\n",
       "# Second Examples\n",
       "\n",
       "```julia\n",
       "julia> r = rand()\n",
       "julia> Print(r)\n",
       "0.40218381068451414\n",
       "```\n",
       "\n",
       "---\n",
       "\n",
       "print `param` (take **String** type as the argument)\n",
       "\n",
       "# Third Examples\n",
       "\n",
       "```julia\n",
       "julia> Print(1)\n",
       "1\n",
       "```\n"
      ],
      "text/plain": [
       "  print \u001b[36mparam\u001b[39m (take \u001b[1mInt\u001b[22m type as the argument)\n",
       "\n",
       "\u001b[1m  First Examples\u001b[22m\n",
       "\u001b[1m  ≡≡≡≡≡≡≡≡≡≡≡≡≡≡≡≡\u001b[22m\n",
       "\n",
       "\u001b[36m  julia> str = \"Hello World\u001b[39m\n",
       "\u001b[36m  \"\u001b[39m\n",
       "\u001b[36m  julia> Print(str*str)\u001b[39m\n",
       "\u001b[36m  Hello WorldHello World\u001b[39m\n",
       "\n",
       "  ────────────────────────────────────────────────────────────────────────────\n",
       "\n",
       "  print \u001b[36mparam\u001b[39m (take \u001b[1mFloat64\u001b[22m type as the argument)\n",
       "\n",
       "\u001b[1m  Second Examples\u001b[22m\n",
       "\u001b[1m  ≡≡≡≡≡≡≡≡≡≡≡≡≡≡≡≡≡\u001b[22m\n",
       "\n",
       "\u001b[36m  julia> r = rand()\u001b[39m\n",
       "\u001b[36m  julia> Print(r)\u001b[39m\n",
       "\u001b[36m  0.40218381068451414\u001b[39m\n",
       "\n",
       "  ────────────────────────────────────────────────────────────────────────────\n",
       "\n",
       "  print \u001b[36mparam\u001b[39m (take \u001b[1mString\u001b[22m type as the argument)\n",
       "\n",
       "\u001b[1m  Third Examples\u001b[22m\n",
       "\u001b[1m  ≡≡≡≡≡≡≡≡≡≡≡≡≡≡≡≡\u001b[22m\n",
       "\n",
       "\u001b[36m  julia> Print(1)\u001b[39m\n",
       "\u001b[36m  1\u001b[39m"
      ]
     },
     "execution_count": 11,
     "metadata": {},
     "output_type": "execute_result"
    }
   ],
   "source": [
    "?Print"
   ]
  },
  {
   "cell_type": "markdown",
   "metadata": {},
   "source": [
    "你会惊喜地发现, 随着 method 的增加, docstring 也能够依次增加, 并且如果需要覆盖某种 method, 只需要重新使用 `@doc` 进行注释"
   ]
  },
  {
   "cell_type": "code",
   "execution_count": 12,
   "metadata": {},
   "outputs": [],
   "source": [
    "@doc \"# Same Type as String\" Print(param::String) = print(param);"
   ]
  },
  {
   "cell_type": "code",
   "execution_count": 13,
   "metadata": {},
   "outputs": [
    {
     "name": "stdout",
     "output_type": "stream",
     "text": [
      "search: \u001b[0m\u001b[1mP\u001b[22m\u001b[0m\u001b[1mr\u001b[22m\u001b[0m\u001b[1mi\u001b[22m\u001b[0m\u001b[1mn\u001b[22m\u001b[0m\u001b[1mt\u001b[22m \u001b[0m\u001b[1mp\u001b[22m\u001b[0m\u001b[1mr\u001b[22m\u001b[0m\u001b[1mi\u001b[22m\u001b[0m\u001b[1mn\u001b[22m\u001b[0m\u001b[1mt\u001b[22m \u001b[0m\u001b[1mp\u001b[22m\u001b[0m\u001b[1mr\u001b[22m\u001b[0m\u001b[1mi\u001b[22m\u001b[0m\u001b[1mn\u001b[22m\u001b[0m\u001b[1mt\u001b[22mln \u001b[0m\u001b[1mp\u001b[22m\u001b[0m\u001b[1mr\u001b[22m\u001b[0m\u001b[1mi\u001b[22m\u001b[0m\u001b[1mn\u001b[22m\u001b[0m\u001b[1mt\u001b[22mstyled s\u001b[0m\u001b[1mp\u001b[22m\u001b[0m\u001b[1mr\u001b[22m\u001b[0m\u001b[1mi\u001b[22m\u001b[0m\u001b[1mn\u001b[22m\u001b[0m\u001b[1mt\u001b[22m is\u001b[0m\u001b[1mp\u001b[22m\u001b[0m\u001b[1mr\u001b[22m\u001b[0m\u001b[1mi\u001b[22m\u001b[0m\u001b[1mn\u001b[22m\u001b[0m\u001b[1mt\u001b[22m \u001b[0m\u001b[1mp\u001b[22m\u001b[0m\u001b[1mr\u001b[22mev\u001b[0m\u001b[1mi\u001b[22m\u001b[0m\u001b[1mn\u001b[22md \u001b[0m\u001b[1mp\u001b[22ma\u001b[0m\u001b[1mr\u001b[22ment\u001b[0m\u001b[1mi\u001b[22m\u001b[0m\u001b[1mn\u001b[22mdices\n",
      "\n"
     ]
    },
    {
     "data": {
      "text/latex": [
       "\\section{Same Type as String}\n",
       "\\rule{\\textwidth}{1pt}\n",
       "print \\texttt{param} (take \\textbf{Float64} type as the argument)\n",
       "\n",
       "\\section{Second Examples}\n",
       "\\begin{verbatim}\n",
       "julia> r = rand()\n",
       "julia> Print(r)\n",
       "0.40218381068451414\n",
       "\\end{verbatim}\n",
       "\\rule{\\textwidth}{1pt}\n",
       "print \\texttt{param} (take \\textbf{String} type as the argument)\n",
       "\n",
       "\\section{Third Examples}\n",
       "\\begin{verbatim}\n",
       "julia> Print(1)\n",
       "1\n",
       "\\end{verbatim}\n"
      ],
      "text/markdown": [
       "# Same Type as String\n",
       "\n",
       "---\n",
       "\n",
       "print `param` (take **Float64** type as the argument)\n",
       "\n",
       "# Second Examples\n",
       "\n",
       "```julia\n",
       "julia> r = rand()\n",
       "julia> Print(r)\n",
       "0.40218381068451414\n",
       "```\n",
       "\n",
       "---\n",
       "\n",
       "print `param` (take **String** type as the argument)\n",
       "\n",
       "# Third Examples\n",
       "\n",
       "```julia\n",
       "julia> Print(1)\n",
       "1\n",
       "```\n"
      ],
      "text/plain": [
       "\u001b[1m  Same Type as String\u001b[22m\n",
       "\u001b[1m  ≡≡≡≡≡≡≡≡≡≡≡≡≡≡≡≡≡≡≡≡≡\u001b[22m\n",
       "\n",
       "  ────────────────────────────────────────────────────────────────────────────\n",
       "\n",
       "  print \u001b[36mparam\u001b[39m (take \u001b[1mFloat64\u001b[22m type as the argument)\n",
       "\n",
       "\u001b[1m  Second Examples\u001b[22m\n",
       "\u001b[1m  ≡≡≡≡≡≡≡≡≡≡≡≡≡≡≡≡≡\u001b[22m\n",
       "\n",
       "\u001b[36m  julia> r = rand()\u001b[39m\n",
       "\u001b[36m  julia> Print(r)\u001b[39m\n",
       "\u001b[36m  0.40218381068451414\u001b[39m\n",
       "\n",
       "  ────────────────────────────────────────────────────────────────────────────\n",
       "\n",
       "  print \u001b[36mparam\u001b[39m (take \u001b[1mString\u001b[22m type as the argument)\n",
       "\n",
       "\u001b[1m  Third Examples\u001b[22m\n",
       "\u001b[1m  ≡≡≡≡≡≡≡≡≡≡≡≡≡≡≡≡\u001b[22m\n",
       "\n",
       "\u001b[36m  julia> Print(1)\u001b[39m\n",
       "\u001b[36m  1\u001b[39m"
      ]
     },
     "execution_count": 13,
     "metadata": {},
     "output_type": "execute_result"
    }
   ],
   "source": [
    "?Print # 或者 @doc Print"
   ]
  },
  {
   "cell_type": "markdown",
   "metadata": {},
   "source": [
    "除了函数, Julia 还可以对常量、变量、数组或者其他类型的对象进行注释"
   ]
  },
  {
   "cell_type": "code",
   "execution_count": 14,
   "metadata": {},
   "outputs": [
    {
     "data": {
      "text/latex": [
       "this belongs to \\texttt{md} object\n",
       "\n"
      ],
      "text/markdown": [
       "this belongs to `md` object\n"
      ],
      "text/plain": [
       "  this belongs to \u001b[36mmd\u001b[39m object"
      ]
     },
     "execution_count": 14,
     "metadata": {},
     "output_type": "execute_result"
    }
   ],
   "source": [
    "# 对 MD 对象进行注释\n",
    "mdObject = doc\"mdObject\"\n",
    "@doc \"this belongs to `md` object\" mdObject\n",
    "@doc mdObject"
   ]
  },
  {
   "cell_type": "code",
   "execution_count": 15,
   "metadata": {},
   "outputs": [
    {
     "data": {
      "text/latex": [
       "\\section{Constant}\n",
       "\\textbf{Complex\\{Int64\\}} type\n",
       "\n",
       "the square is -1 + 0im\n",
       "\n"
      ],
      "text/markdown": [
       "# Constant\n",
       "\n",
       "**Complex{Int64}** type\n",
       "\n",
       "the square is -1 + 0im\n"
      ],
      "text/plain": [
       "\u001b[1m  Constant\u001b[22m\n",
       "\u001b[1m  ≡≡≡≡≡≡≡≡≡≡\u001b[22m\n",
       "\n",
       "  \u001b[1mComplex{Int64}\u001b[22m type\n",
       "\n",
       "  the square is -1 + 0im"
      ]
     },
     "execution_count": 15,
     "metadata": {},
     "output_type": "execute_result"
    }
   ],
   "source": [
    "# 对常量注释\n",
    "@doc \"# Constant\n",
    "**$(typeof(imag))** type\n",
    "\n",
    "the square is $(imag*imag)\" -> \n",
    "const imag = 1im\n",
    "\n",
    "@doc imag"
   ]
  },
  {
   "cell_type": "markdown",
   "metadata": {},
   "source": [
    "从上面这个例子可以看到, Julia 的插值功能非常强大, Julia 能够先将变量的值\"计算\"出来, 然后\"链接\"到 docstring\n",
    "\n",
    "然而 docstring 并非能够动态地把值\"链接\"过来, 请看以下例子:"
   ]
  },
  {
   "cell_type": "code",
   "execution_count": 16,
   "metadata": {},
   "outputs": [
    {
     "data": {
      "text/latex": [
       "\\section{Vector of Random Variables}\n",
       "param \\texttt{n}: length of the vector\n",
       "\n",
       "defalut \\texttt{n} = 3\n",
       "\n"
      ],
      "text/markdown": [
       "# Vector of Random Variables\n",
       "\n",
       "param `n`: length of the vector\n",
       "\n",
       "defalut `n` = 3\n"
      ],
      "text/plain": [
       "\u001b[1m  Vector of Random Variables\u001b[22m\n",
       "\u001b[1m  ≡≡≡≡≡≡≡≡≡≡≡≡≡≡≡≡≡≡≡≡≡≡≡≡≡≡≡≡\u001b[22m\n",
       "\n",
       "  param \u001b[36mn\u001b[39m: length of the vector\n",
       "\n",
       "  defalut \u001b[36mn\u001b[39m = 3"
      ]
     },
     "execution_count": 16,
     "metadata": {},
     "output_type": "execute_result"
    }
   ],
   "source": [
    "@doc \"# Vector of Random Variables\n",
    "param `n`: length of the vector\n",
    "\n",
    "defalut `n` = $(length(num))\n",
    "\"  num = rand(3);\n",
    "\n",
    "\n",
    "@doc num"
   ]
  },
  {
   "cell_type": "code",
   "execution_count": 17,
   "metadata": {},
   "outputs": [
    {
     "data": {
      "text/latex": [
       "\\section{Vector of Random Variables}\n",
       "param \\texttt{n}: length of the vector\n",
       "\n",
       "defalut \\texttt{n} = 3\n",
       "\n"
      ],
      "text/markdown": [
       "# Vector of Random Variables\n",
       "\n",
       "param `n`: length of the vector\n",
       "\n",
       "defalut `n` = 3\n"
      ],
      "text/plain": [
       "\u001b[1m  Vector of Random Variables\u001b[22m\n",
       "\u001b[1m  ≡≡≡≡≡≡≡≡≡≡≡≡≡≡≡≡≡≡≡≡≡≡≡≡≡≡≡≡\u001b[22m\n",
       "\n",
       "  param \u001b[36mn\u001b[39m: length of the vector\n",
       "\n",
       "  defalut \u001b[36mn\u001b[39m = 3"
      ]
     },
     "execution_count": 17,
     "metadata": {},
     "output_type": "execute_result"
    }
   ],
   "source": [
    "num= rand(1);\n",
    "@doc num"
   ]
  },
  {
   "cell_type": "markdown",
   "metadata": {},
   "source": [
    "更改了 **num** 的值, 但是 docstring 依然是第一次赋值的结果, 在很多场景下这非常实用, 尤其是对常量注释\n",
    "\n",
    "但是我们可以遵循之前讨论的思路, 用新的 MD 对象进行覆盖"
   ]
  },
  {
   "cell_type": "code",
   "execution_count": 18,
   "metadata": {},
   "outputs": [
    {
     "data": {
      "text/latex": [
       "\\section{Vector of Random Variables}\n",
       "param \\texttt{n}: length of the vector\n",
       "\n",
       "defalut \\texttt{n} = 1\n",
       "\n"
      ],
      "text/markdown": [
       "# Vector of Random Variables\n",
       "\n",
       "param `n`: length of the vector\n",
       "\n",
       "defalut `n` = 1\n"
      ],
      "text/plain": [
       "\u001b[1m  Vector of Random Variables\u001b[22m\n",
       "\u001b[1m  ≡≡≡≡≡≡≡≡≡≡≡≡≡≡≡≡≡≡≡≡≡≡≡≡≡≡≡≡\u001b[22m\n",
       "\n",
       "  param \u001b[36mn\u001b[39m: length of the vector\n",
       "\n",
       "  defalut \u001b[36mn\u001b[39m = 1"
      ]
     },
     "execution_count": 18,
     "metadata": {},
     "output_type": "execute_result"
    }
   ],
   "source": [
    "@doc \"# Vector of Random Variables\n",
    "param `n`: length of the vector\n",
    "\n",
    "defalut `n` = $(length(num))\n",
    "\"  num \n",
    "\n",
    "@doc num"
   ]
  },
  {
   "cell_type": "code",
   "execution_count": 19,
   "metadata": {},
   "outputs": [
    {
     "data": {
      "text/latex": [
       "\\section{Vector of Random Variables}\n",
       "param \\texttt{n}: length of the vector\n",
       "\n",
       "defalut \\texttt{n} = 100\n",
       "\n"
      ],
      "text/markdown": [
       "# Vector of Random Variables\n",
       "\n",
       "param `n`: length of the vector\n",
       "\n",
       "defalut `n` = 100\n"
      ],
      "text/plain": [
       "\u001b[1m  Vector of Random Variables\u001b[22m\n",
       "\u001b[1m  ≡≡≡≡≡≡≡≡≡≡≡≡≡≡≡≡≡≡≡≡≡≡≡≡≡≡≡≡\u001b[22m\n",
       "\n",
       "  param \u001b[36mn\u001b[39m: length of the vector\n",
       "\n",
       "  defalut \u001b[36mn\u001b[39m = 100"
      ]
     },
     "execution_count": 19,
     "metadata": {},
     "output_type": "execute_result"
    }
   ],
   "source": [
    "@doc \"# Vector of Random Variables\n",
    "param `n`: length of the vector\n",
    "\n",
    "defalut `n` = $(length(num))\n",
    "\"  num = rand(100)\n",
    "\n",
    "@doc num"
   ]
  },
  {
   "cell_type": "markdown",
   "metadata": {},
   "source": [
    "# 实现 MD 实例: 从字符串到 MD 对象"
   ]
  },
  {
   "cell_type": "markdown",
   "metadata": {},
   "source": [
    "接下来, 你会想知道, 如何写出 **MD** 实例, 有两种方式:\n",
    "\n",
    "1. 对符合 markdown 语法的字符串，使用 `md` 和 `doc` 字符串宏 (string macro)、`@doc_str` 宏(macro) 、`Markdown.parse()`函数直接转化成 MD 对象\n",
    "\n",
    "2. 对普通字符串，使用 `Markdown.jl`的相关函数: Header、 LaTeX、 Image、 Link、 Bold、 Italic、 Table、 Code、 Footnote、 Paragraph 等进行相应地组建 markdown 结构"
   ]
  },
  {
   "cell_type": "markdown",
   "metadata": {},
   "source": [
    "## 用宏和函数解析 markdown 字符串"
   ]
  },
  {
   "cell_type": "code",
   "execution_count": 20,
   "metadata": {},
   "outputs": [],
   "source": [
    "md_logo = md\"\"\"\n",
    "# Julia Icon\n",
    "\n",
    "![Julia Icon](https://raw.githubusercontent.com/JuliaLang/julia-logo-graphics/master/images/old-style/julia-logo-488-by-338.png)\n",
    "\"\"\";"
   ]
  },
  {
   "cell_type": "code",
   "execution_count": 21,
   "metadata": {},
   "outputs": [],
   "source": [
    "doc_str_logo = @doc_str \"\"\"\n",
    "# Julia Dragon Icon\n",
    "\n",
    "![Julia Dragon Icon](https://discourse.juliacn.com/uploads/default/original/1X/6422ed319b31937c1e13c9dc7ab6b5166db5ba79.jpeg)\n",
    "\"\"\";"
   ]
  },
  {
   "cell_type": "code",
   "execution_count": 22,
   "metadata": {},
   "outputs": [],
   "source": [
    "str = \"\"\"\n",
    "# Julia Three-Balls Icon\n",
    "\n",
    "![Julia Three-Balls Icon](https://raw.githubusercontent.com/JuliaLang/julia-logo-graphics/master/images/old-style/three-balls.png)\n",
    "\"\"\"\n",
    "\n",
    "parse_logo = Markdown.parse(str);"
   ]
  },
  {
   "cell_type": "code",
   "execution_count": 23,
   "metadata": {},
   "outputs": [
    {
     "data": {
      "text/latex": [
       "\\section{Julia Dragon Icon}\n",
       "\\begin{figure}\n",
       "\\centering\n",
       "\\includegraphics{https://discourse.juliacn.com/uploads/default/original/1X/6422ed319b31937c1e13c9dc7ab6b5166db5ba79.jpeg}\n",
       "\\caption{Julia Dragon Icon}\n",
       "\\end{figure}\n",
       "\n",
       "\n",
       "\\section{Julia Icon}\n",
       "\\begin{figure}\n",
       "\\centering\n",
       "\\includegraphics{https://raw.githubusercontent.com/JuliaLang/julia-logo-graphics/master/images/old-style/julia-logo-488-by-338.png}\n",
       "\\caption{Julia Icon}\n",
       "\\end{figure}\n",
       "\n",
       "\n",
       "\\section{Julia Three-Balls Icon}\n",
       "\\begin{figure}\n",
       "\\centering\n",
       "\\includegraphics{https://raw.githubusercontent.com/JuliaLang/julia-logo-graphics/master/images/old-style/three-balls.png}\n",
       "\\caption{Julia Three-Balls Icon}\n",
       "\\end{figure}\n",
       "\n",
       "\n"
      ],
      "text/markdown": [
       "# Julia Dragon Icon\n",
       "\n",
       "![Julia Dragon Icon](https://discourse.juliacn.com/uploads/default/original/1X/6422ed319b31937c1e13c9dc7ab6b5166db5ba79.jpeg)\n",
       "\n",
       "# Julia Icon\n",
       "\n",
       "![Julia Icon](https://raw.githubusercontent.com/JuliaLang/julia-logo-graphics/master/images/old-style/julia-logo-488-by-338.png)\n",
       "\n",
       "# Julia Three-Balls Icon\n",
       "\n",
       "![Julia Three-Balls Icon](https://raw.githubusercontent.com/JuliaLang/julia-logo-graphics/master/images/old-style/three-balls.png)\n"
      ],
      "text/plain": [
       "\u001b[1m  Julia Dragon Icon\u001b[22m\n",
       "\u001b[1m  ≡≡≡≡≡≡≡≡≡≡≡≡≡≡≡≡≡≡≡\u001b[22m\n",
       "\n",
       "  (Image: Julia Dragon Icon)\n",
       "\n",
       "\u001b[1m  Julia Icon\u001b[22m\n",
       "\u001b[1m  ≡≡≡≡≡≡≡≡≡≡≡≡\u001b[22m\n",
       "\n",
       "  (Image: Julia Icon)\n",
       "\n",
       "\u001b[1m  Julia Three-Balls Icon\u001b[22m\n",
       "\u001b[1m  ≡≡≡≡≡≡≡≡≡≡≡≡≡≡≡≡≡≡≡≡≡≡≡≡\u001b[22m\n",
       "\n",
       "  (Image: Julia Three-Balls Icon)"
      ]
     },
     "execution_count": 23,
     "metadata": {},
     "output_type": "execute_result"
    }
   ],
   "source": [
    "mdChunk = MD(Vector{MD}(\n",
    "        [doc_str_logo, md_logo, parse_logo]\n",
    "        )\n",
    ")"
   ]
  },
  {
   "cell_type": "markdown",
   "metadata": {},
   "source": [
    "在解析含有插值字符串时, 这三种方式略有不同, `md` 字符串宏会把不会对插值代码求值, `parse` 函数会对插值求值, 而 `@doc_str` 宏无法解析含有插值的字符串"
   ]
  },
  {
   "cell_type": "code",
   "execution_count": 24,
   "metadata": {},
   "outputs": [
    {
     "data": {
      "text/latex": [
       "print \\texttt{str} (only take \\textbf{String} type as the argument)\n",
       "\n",
       "\\section{Examples}\n",
       "\\begin{verbatim}\n",
       "julia> Print(\"Hello World\")\n",
       "$(let str=\"Hello World\"\n",
       "   str\n",
       "  end\n",
       ")\n",
       "\\end{verbatim}\n"
      ],
      "text/markdown": [
       "print `str` (only take **String** type as the argument)\n",
       "\n",
       "# Examples\n",
       "\n",
       "```julia\n",
       "julia> Print(\"Hello World\")\n",
       "$(let str=\"Hello World\"\n",
       "   str\n",
       "  end\n",
       ")\n",
       "```\n"
      ],
      "text/plain": [
       "  print \u001b[36mstr\u001b[39m (only take \u001b[1mString\u001b[22m type as the argument)\n",
       "\n",
       "\u001b[1m  Examples\u001b[22m\n",
       "\u001b[1m  ≡≡≡≡≡≡≡≡≡≡\u001b[22m\n",
       "\n",
       "\u001b[36m  julia> Print(\"Hello World\")\u001b[39m\n",
       "\u001b[36m  $(let str=\"Hello World\"\u001b[39m\n",
       "\u001b[36m     str\u001b[39m\n",
       "\u001b[36m    end\u001b[39m\n",
       "\u001b[36m  )\u001b[39m"
      ]
     },
     "execution_count": 24,
     "metadata": {},
     "output_type": "execute_result"
    }
   ],
   "source": [
    "md\"\"\"\n",
    "print `str` (only take **String** type as the argument)\n",
    "\n",
    "# Examples\n",
    "\n",
    "```julia\n",
    "julia> Print(\"Hello World\")\n",
    "$(let str=\"Hello World\"\n",
    "   str\n",
    "  end\n",
    ")\n",
    "```\n",
    "\"\"\""
   ]
  },
  {
   "cell_type": "code",
   "execution_count": 25,
   "metadata": {},
   "outputs": [
    {
     "data": {
      "text/latex": [
       "print \\texttt{str} (only take \\textbf{String} type as the argument)\n",
       "\n",
       "\\section{Examples}\n",
       "\\begin{verbatim}\n",
       "julia> Print(\"Hello World\")\n",
       "Hello World\n",
       "\\end{verbatim}\n"
      ],
      "text/markdown": [
       "print `str` (only take **String** type as the argument)\n",
       "\n",
       "# Examples\n",
       "\n",
       "```julia\n",
       "julia> Print(\"Hello World\")\n",
       "Hello World\n",
       "```\n"
      ],
      "text/plain": [
       "  print \u001b[36mstr\u001b[39m (only take \u001b[1mString\u001b[22m type as the argument)\n",
       "\n",
       "\u001b[1m  Examples\u001b[22m\n",
       "\u001b[1m  ≡≡≡≡≡≡≡≡≡≡\u001b[22m\n",
       "\n",
       "\u001b[36m  julia> Print(\"Hello World\")\u001b[39m\n",
       "\u001b[36m  Hello World\u001b[39m"
      ]
     },
     "execution_count": 25,
     "metadata": {},
     "output_type": "execute_result"
    }
   ],
   "source": [
    "Markdown.parse(\"\"\"\n",
    "print `str` (only take **String** type as the argument)\n",
    "\n",
    "# Examples\n",
    "\n",
    "```julia\n",
    "julia> Print(\"Hello World\")\n",
    "$(let str=\"Hello World\"\n",
    "   str\n",
    "  end\n",
    ")\n",
    "```\n",
    "\"\"\")"
   ]
  },
  {
   "cell_type": "code",
   "execution_count": 26,
   "metadata": {},
   "outputs": [
    {
     "ename": "LoadError",
     "evalue": "MethodError: no method matching @doc_str(::LineNumberNode, ::Module, ::Expr)\nClosest candidates are:\n  @doc_str(::LineNumberNode, ::Module, !Matched::AbstractString, !Matched::Any...) at /buildworker/worker/package_linux64/build/usr/share/julia/stdlib/v1.3/Markdown/src/Markdown.jl:56",
     "output_type": "error",
     "traceback": [
      "MethodError: no method matching @doc_str(::LineNumberNode, ::Module, ::Expr)\nClosest candidates are:\n  @doc_str(::LineNumberNode, ::Module, !Matched::AbstractString, !Matched::Any...) at /buildworker/worker/package_linux64/build/usr/share/julia/stdlib/v1.3/Markdown/src/Markdown.jl:56",
      ""
     ]
    }
   ],
   "source": [
    "@doc_str \"\"\"\n",
    "print `str` (only take **String** type as the argument)\n",
    "\n",
    "# Examples\n",
    "\n",
    "```julia\n",
    "julia> Print(\"Hello World\")\n",
    "$(let str=\"Hello World\"\n",
    "   str\n",
    "  end\n",
    ")\n",
    "```\n",
    "\"\"\""
   ]
  },
  {
   "cell_type": "markdown",
   "metadata": {},
   "source": [
    "## 函数式编程组建 markdown 结构"
   ]
  },
  {
   "cell_type": "code",
   "execution_count": 27,
   "metadata": {},
   "outputs": [],
   "source": [
    "using Markdown\n",
    "using Markdown: MD,  Header, Italic, Bold,  plain, Code, LaTeX, Paragraph, html"
   ]
  },
  {
   "cell_type": "markdown",
   "metadata": {},
   "source": [
    "根据 markdown 语法和 HTML 结构, 我们知道 md 中的 `# title` 写法其实是对应 html 的 `<h1>title<\\h1>`\n",
    "\n",
    "在 Julia 中, 用函数的方式把 **h1** 生成相应 MD 对象的过程是: 先使用 `Header()` 生成 **Header** 对象, 再用 `MD()` 函数接收一维数组, 把数组所有内容转化成一个整体的 MD 对象:"
   ]
  },
  {
   "cell_type": "code",
   "execution_count": 28,
   "metadata": {},
   "outputs": [
    {
     "data": {
      "text/plain": [
       "Header{1}(\"title\")"
      ]
     },
     "execution_count": 28,
     "metadata": {},
     "output_type": "execute_result"
    }
   ],
   "source": [
    "h1 = Header(\"title\") # type => Header{1}"
   ]
  },
  {
   "cell_type": "code",
   "execution_count": 29,
   "metadata": {},
   "outputs": [
    {
     "data": {
      "text/latex": [
       "\\section{title}\n"
      ],
      "text/markdown": [
       "# title\n"
      ],
      "text/plain": [
       "\u001b[1m  title\u001b[22m\n",
       "\u001b[1m  ≡≡≡≡≡≡≡\u001b[22m"
      ]
     },
     "execution_count": 29,
     "metadata": {},
     "output_type": "execute_result"
    }
   ],
   "source": [
    "md_header = MD(h1) # type => MD"
   ]
  },
  {
   "cell_type": "code",
   "execution_count": 30,
   "metadata": {},
   "outputs": [
    {
     "data": {
      "text/plain": [
       "true"
      ]
     },
     "execution_count": 30,
     "metadata": {},
     "output_type": "execute_result"
    }
   ],
   "source": [
    "md_header == md\"# title\""
   ]
  },
  {
   "cell_type": "markdown",
   "metadata": {},
   "source": [
    "再看一个简单的 md 语句 md1"
   ]
  },
  {
   "cell_type": "code",
   "execution_count": 31,
   "metadata": {},
   "outputs": [
    {
     "data": {
      "text/latex": [
       "foo \\emph{italic foo} \\textbf{bold foo} \\texttt{code foo}\n",
       "\n"
      ],
      "text/markdown": [
       "foo *italic foo* **bold foo** `code foo`\n"
      ],
      "text/plain": [
       "  foo \u001b[4mitalic foo\u001b[24m \u001b[1mbold foo\u001b[22m \u001b[36mcode foo\u001b[39m"
      ]
     },
     "execution_count": 31,
     "metadata": {},
     "output_type": "execute_result"
    }
   ],
   "source": [
    " md1 = md\"foo *italic foo* **bold foo** `code foo`\""
   ]
  },
  {
   "cell_type": "markdown",
   "metadata": {},
   "source": [
    "如果我们需要实现 md1 的 markdown 结构, 用函数的形式, 需要写成"
   ]
  },
  {
   "cell_type": "code",
   "execution_count": 32,
   "metadata": {},
   "outputs": [
    {
     "data": {
      "text/latex": [
       "foo \\emph{italic foo} \\textbf{bold foo} \\texttt{code foo}\n",
       "\n"
      ],
      "text/markdown": [
       "foo *italic foo* **bold foo** `code foo`\n"
      ],
      "text/plain": [
       "  foo \u001b[4mitalic foo\u001b[24m \u001b[1mbold foo\u001b[22m \u001b[36mcode foo\u001b[39m"
      ]
     },
     "execution_count": 32,
     "metadata": {},
     "output_type": "execute_result"
    }
   ],
   "source": [
    "md2 = MD(Paragraph([\"foo \", Italic(\"italic foo\"), \" \", Bold(\"bold foo\"), \" \",  Code(\"code foo\")]))"
   ]
  },
  {
   "cell_type": "code",
   "execution_count": 33,
   "metadata": {},
   "outputs": [
    {
     "data": {
      "text/plain": [
       "(true, MD, MD)"
      ]
     },
     "execution_count": 33,
     "metadata": {},
     "output_type": "execute_result"
    }
   ],
   "source": [
    " md1 == md2, typeof(md1), typeof(md2)"
   ]
  },
  {
   "cell_type": "markdown",
   "metadata": {},
   "source": [
    "同样地, 我们可以\"合并\"不同类型的数据作为一个整体的 `MD` 对象:"
   ]
  },
  {
   "cell_type": "code",
   "execution_count": 34,
   "metadata": {},
   "outputs": [],
   "source": [
    "md3 = md\"\"\"inline $\\LaTeX$ formula \n",
    "\n",
    "$\\frac{1}{2}$\n",
    "\n",
    "interline formula $$\\frac{1}{2}$$\n",
    "\"\"\";\n",
    "\n",
    "LATEX = LaTeX(\"\\\\text{end with}\\\\, \\\\LaTeX \\\\cdots\");\n",
    "\n",
    "v = [Header(\"MD 实例\"), md3, \n",
    "    Header(\"MD 实例转化的普通字符串\"), plain(md3),\n",
    "    Header(\"LaTeX 公式\"), LATEX]\n",
    "md_v = MD(v);"
   ]
  },
  {
   "cell_type": "code",
   "execution_count": 35,
   "metadata": {},
   "outputs": [
    {
     "data": {
      "text/plain": [
       "7-element Array{DataType,1}:\n",
       " Header{1}\n",
       " MD       \n",
       " Header{1}\n",
       " String   \n",
       " Header{1}\n",
       " LaTeX    \n",
       " MD       "
      ]
     },
     "execution_count": 35,
     "metadata": {},
     "output_type": "execute_result"
    }
   ],
   "source": [
    "map(x->typeof(x), vcat(v, md_v))"
   ]
  },
  {
   "cell_type": "markdown",
   "metadata": {},
   "source": [
    "`@doc`的第一个参数不仅支持字符串, 还支持 MD 对象:"
   ]
  },
  {
   "cell_type": "code",
   "execution_count": 36,
   "metadata": {},
   "outputs": [
    {
     "data": {
      "text/markdown": [
       "# MD 实例\n",
       "\n",
       "inline $\\LaTeX$ formula \n",
       "\n",
       "$$\n",
       "\\frac{1}{2}\n",
       "$$\n",
       "\n",
       "interline formula $\\frac{1}{2}$\n",
       "\n",
       "# MD 实例转化的普通字符串\n",
       "\n",
       "\"inline \\$\\\\LaTeX\\$ formula \\n\\n\\$\\$\\n\\\\frac{1}{2}\\n\\$\\$\\n\\ninterline formula \\$\\\\frac{1}{2}\\$\\n\"\n",
       "\n",
       "# LaTeX 公式\n",
       "\n",
       "$$\n",
       "\\text{end with}\\, \\LaTeX \\cdots\n",
       "$$\n"
      ],
      "text/plain": [
       "\u001b[1m  MD 实例\u001b[22m\n",
       "\u001b[1m  ≡≡≡≡≡≡≡\u001b[22m\n",
       "\n",
       "  inline \u001b[35m\\LaTeX\u001b[39m formula \n",
       "\n",
       "\u001b[35m\\frac{1}{2}\u001b[39m\n",
       "\n",
       "  interline formula \u001b[35m\\frac{1}{2}\u001b[39m\n",
       "\n",
       "\u001b[1m  MD 实例转化的普通字符串\u001b[22m\n",
       "\u001b[1m  ≡≡≡≡≡≡≡≡≡≡≡≡≡≡≡\u001b[22m\n",
       "\n",
       "\"inline \\$\\\\LaTeX\\$ formula \\n\\n\\$\\$\\n\\\\frac{1}{2}\\n\\$\\$\\n\\ninterline formula \\$\\\\frac{1}{2}\\$\\n\"\n",
       "\n",
       "\u001b[1m  LaTeX 公式\u001b[22m\n",
       "\u001b[1m  ≡≡≡≡≡≡≡≡≡≡\u001b[22m\n",
       "\n",
       "\u001b[35m\\text{end with}\\, \\LaTeX \\cdots\u001b[39m"
      ]
     },
     "execution_count": 36,
     "metadata": {},
     "output_type": "execute_result"
    }
   ],
   "source": [
    "o5 = .5;\n",
    "@doc md_v o5;\n",
    "@doc o5"
   ]
  },
  {
   "cell_type": "markdown",
   "metadata": {},
   "source": [
    "# MD 对象转化成 String"
   ]
  },
  {
   "cell_type": "markdown",
   "metadata": {},
   "source": [
    "MD 对象可以转化成以下三种字符串:\n",
    "\n",
    "- md 格式的字符串: `plain()` 函数\n",
    "\n",
    "- html 格式的字符串: `html()` 函数\n",
    "\n",
    "- tex 格式的字符串: `latex()` 函数\n"
   ]
  },
  {
   "cell_type": "code",
   "execution_count": 37,
   "metadata": {},
   "outputs": [
    {
     "data": {
      "text/latex": [
       "foo \\emph{italic foo} \\textbf{bold foo} \\texttt{code foo}\n",
       "\n"
      ],
      "text/markdown": [
       "foo *italic foo* **bold foo** `code foo`\n"
      ],
      "text/plain": [
       "  foo \u001b[4mitalic foo\u001b[24m \u001b[1mbold foo\u001b[22m \u001b[36mcode foo\u001b[39m"
      ]
     },
     "execution_count": 37,
     "metadata": {},
     "output_type": "execute_result"
    }
   ],
   "source": [
    " md1 = md\"foo *italic foo* **bold foo** `code foo`\""
   ]
  },
  {
   "cell_type": "code",
   "execution_count": 38,
   "metadata": {},
   "outputs": [
    {
     "data": {
      "text/plain": [
       "\"foo *italic foo* **bold foo** `code foo`\\n\""
      ]
     },
     "execution_count": 38,
     "metadata": {},
     "output_type": "execute_result"
    }
   ],
   "source": [
    "plain(md1)"
   ]
  },
  {
   "cell_type": "code",
   "execution_count": 39,
   "metadata": {},
   "outputs": [
    {
     "data": {
      "text/plain": [
       "\"<p>foo <em>italic foo</em> <strong>bold foo</strong> <code>code foo</code></p>\\n\""
      ]
     },
     "execution_count": 39,
     "metadata": {},
     "output_type": "execute_result"
    }
   ],
   "source": [
    "html(md1)"
   ]
  },
  {
   "cell_type": "code",
   "execution_count": 40,
   "metadata": {},
   "outputs": [
    {
     "data": {
      "text/plain": [
       "\"foo \\\\emph{italic foo} \\\\textbf{bold foo} \\\\texttt{code foo}\\n\\n\""
      ]
     },
     "execution_count": 40,
     "metadata": {},
     "output_type": "execute_result"
    }
   ],
   "source": [
    "latex(md1)"
   ]
  },
  {
   "cell_type": "markdown",
   "metadata": {},
   "source": [
    "MD 对象转化成 String"
   ]
  },
  {
   "cell_type": "markdown",
   "metadata": {},
   "source": [
    "# 实现文档类型转化: md 文件 转化成 html 文件和 tex 文件"
   ]
  },
  {
   "cell_type": "markdown",
   "metadata": {},
   "source": [
    "MD 对象不仅可以用于添加文档说明, 还可以实现 markdown 与其他文档类型相互转化\n",
    "\n",
    "比如我们有一个 markdown 文件 (为方便说明,  我们从 github 上下载 Markdown.jl 的 md 文档)"
   ]
  },
  {
   "cell_type": "code",
   "execution_count": 41,
   "metadata": {},
   "outputs": [
    {
     "name": "stdout",
     "output_type": "stream",
     "text": [
      "GET /JuliaStdlibs/Markdown.jl/master/docs/src/index.md HTTP/1.1\n",
      "HTTP/1.1 200 OK <= (GET /JuliaStdlibs/Markdown.jl/master/docs/src/index.md HTTP/1.1)\n"
     ]
    }
   ],
   "source": [
    "using HTTP\n",
    "\n",
    "url = \"https://raw.githubusercontent.com/JuliaStdlibs/Markdown.jl/master/docs/src/index.md\"\n",
    "r = HTTP.request(\"GET\", url; verbose=1); # verbose 参数用于打印请求的客户端和服务器之间信息流, 0 表示不显示信息, 1 表示打印最简单的交互信息, 2 表示打印 request 请求和 response 响应内容信息, 3 表示打印详细的 Debug 信息\n",
    "\n",
    "mdString = String(r.body); # type: str\n",
    "open(f -> write(f, mdString), \"index.md\", \"w\"); # 保存成名为 index.md 的本地文件"
   ]
  },
  {
   "cell_type": "code",
   "execution_count": 42,
   "metadata": {},
   "outputs": [],
   "source": [
    "# 将本地 md 文件解析成 MD 对象\n",
    "mdInstance = Markdown.parse_file(joinpath(pwd(), \"index.md\")); # => type: MD"
   ]
  },
  {
   "cell_type": "markdown",
   "metadata": {},
   "source": [
    "你可以先把 MD 对象转化成 String, 然后把 String 保存成文本文件:"
   ]
  },
  {
   "cell_type": "code",
   "execution_count": 43,
   "metadata": {},
   "outputs": [],
   "source": [
    "mdHtml = html(mdInstance); # => type: str \n",
    "open(f -> write(f, mdHtml), \"index.html\", \"w\");"
   ]
  },
  {
   "cell_type": "code",
   "execution_count": 44,
   "metadata": {},
   "outputs": [],
   "source": [
    "mdLatex = latex(mdInstance); # => type: str \n",
    "open(f -> write(f, mdLatex), \"index.tex\", \"w\");"
   ]
  },
  {
   "cell_type": "markdown",
   "metadata": {},
   "source": [
    "而另外一种简便的转化方法是使用 `html(io::IO, md::MD)` `latex(io::IO, md::MD)` 方法, 直接进行 IO 操作 (这得益于 [multiple dispatch](https://docs.julialang.org/en/v1/manual/methods/index.html))"
   ]
  },
  {
   "cell_type": "code",
   "execution_count": 45,
   "metadata": {},
   "outputs": [],
   "source": [
    "open(f->Markdown.html(f, mdInstance), \"readme.html\", \"w\")\n",
    "# 等价于\n",
    "# io = open(\"readme.html\", \"w\");\n",
    "# Markdown.html(io, mdInstance);\n",
    "# close(io)\n",
    "# 或者使用 tohtml 函数\n",
    "# open(f->Markdown.tohtml(f, mdInstance), \"readme.html\", \"w\")"
   ]
  },
  {
   "cell_type": "markdown",
   "metadata": {},
   "source": [
    "![转化html](./fig/markdown/转化html.png)"
   ]
  },
  {
   "cell_type": "code",
   "execution_count": 46,
   "metadata": {},
   "outputs": [],
   "source": [
    "open(f->Markdown.latex(f, mdInstance), \"readme.tex\", \"w\")"
   ]
  },
  {
   "cell_type": "markdown",
   "metadata": {},
   "source": [
    "![转化tex](./fig/markdown/转化tex.png)"
   ]
  }
 ],
 "metadata": {
  "kernelspec": {
   "display_name": "Julia 1.3.0-rc1",
   "language": "julia",
   "name": "julia-1.3"
  },
  "language_info": {
   "file_extension": ".jl",
   "mimetype": "application/julia",
   "name": "julia",
   "version": "1.3.0"
  },
  "toc": {
   "base_numbering": 1,
   "nav_menu": {
    "height": "77px",
    "width": "160px"
   },
   "number_sections": true,
   "sideBar": true,
   "skip_h1_title": false,
   "title_cell": "Table of Contents",
   "title_sidebar": "Contents",
   "toc_cell": true,
   "toc_position": {
    "height": "calc(100% - 180px)",
    "left": "10px",
    "top": "150px",
    "width": "205.72px"
   },
   "toc_section_display": true,
   "toc_window_display": true
  },
  "varInspector": {
   "cols": {
    "lenName": 16,
    "lenType": 16,
    "lenVar": 40
   },
   "kernels_config": {
    "python": {
     "delete_cmd_postfix": "",
     "delete_cmd_prefix": "del ",
     "library": "var_list.py",
     "varRefreshCmd": "print(var_dic_list())"
    },
    "r": {
     "delete_cmd_postfix": ") ",
     "delete_cmd_prefix": "rm(",
     "library": "var_list.r",
     "varRefreshCmd": "cat(var_dic_list()) "
    }
   },
   "types_to_exclude": [
    "module",
    "function",
    "builtin_function_or_method",
    "instance",
    "_Feature"
   ],
   "window_display": false
  }
 },
 "nbformat": 4,
 "nbformat_minor": 2
}
